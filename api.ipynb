{
 "cells": [
  {
   "cell_type": "code",
   "execution_count": null,
   "id": "5ab157bf-b15a-4a0c-b0e3-d97c8e5bfa9c",
   "metadata": {},
   "outputs": [],
   "source": [
    "import requests\n",
    "import os\n",
    "from datetime import datetime\n",
    "\n",
    "def consultar_api(fase, data_interesse):\n",
    "    url = \"https://api.portaldatransparencia.gov.br/api-de-dados/despesas/documentos-por-favorecido\"\n",
    "    params = {\n",
    "        \"codigoPessoa\": os.getenv(\"CNPJ\"),  # CNPJ armazenado em uma variável de ambiente\n",
    "        \"fase\": fase,\n",
    "        \"ano\": data_interesse.year,\n",
    "        \"pagina\": 1,\n",
    "        \"ordenacaoResultado\": 4\n",
    "    }\n",
    "    headers = {\n",
    "        \"chave-api-dados\": os.getenv(\"API_KEY\"),  # Chave da API armazenada em uma variável de ambiente\n",
    "        \"accept\": \"*/*\"\n",
    "    }\n",
    "    \n",
    "    resultados = []\n",
    "    \n",
    "    while True:\n",
    "        response = requests.get(url, params=params, headers=headers)\n",
    "        if response.status_code == 200:\n",
    "            dados = response.json()\n",
    "            if not dados:\n",
    "                break\n",
    "            for documento in dados:\n",
    "                if documento[\"data\"] == data_interesse.strftime(\"%d/%m/%Y\"):\n",
    "                    resultados.append(documento)\n",
    "            params[\"pagina\"] += 1\n",
    "        else:\n",
    "            print(f\"Falha ao fazer a solicitação para a fase {fase}. Status code:\", response.status_code)\n",
    "            break\n",
    "    \n",
    "    return resultados\n",
    "\n",
    "def get_fase_nome(fase):\n",
    "    fases = {\n",
    "        1: \"Empenho\",\n",
    "        2: \"Liquidação\",\n",
    "        3: \"Pagamento\"\n",
    "    }\n",
    "    return fases.get(fase, f\"Fase {fase}\")\n"
   ]
  }
 ],
 "metadata": {
  "kernelspec": {
   "display_name": "Python 3 (ipykernel)",
   "language": "python",
   "name": "python3"
  },
  "language_info": {
   "codemirror_mode": {
    "name": "ipython",
    "version": 3
   },
   "file_extension": ".py",
   "mimetype": "text/x-python",
   "name": "python",
   "nbconvert_exporter": "python",
   "pygments_lexer": "ipython3",
   "version": "3.12.4"
  }
 },
 "nbformat": 4,
 "nbformat_minor": 5
}
