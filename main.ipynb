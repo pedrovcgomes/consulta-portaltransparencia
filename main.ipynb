{
 "cells": [
  {
   "cell_type": "code",
   "execution_count": null,
   "id": "ba4695d2-550a-45ab-b606-0300989731d8",
   "metadata": {},
   "outputs": [],
   "source": [
    "from datetime import datetime\n",
    "from api import consultar_api, get_fase_nome\n",
    "from email import enviar_email\n",
    "\n",
    "def formatar_resultados(resultados):\n",
    "    if not resultados:\n",
    "        return \"Nenhum resultado encontrado para esta fase na data especificada.\"\n",
    "    \n",
    "    email_body = \"\"\n",
    "    for documento in resultados:\n",
    "        email_body += f\"Data: {documento['data']}\\n\"\n",
    "        email_body += f\"Fase: {documento['fase']}\\n\"\n",
    "        email_body += f\"Documento: {documento['documento']}\\n\"\n",
    "        email_body += f\"Observação: {documento['observacao']}\\n\"\n",
    "        email_body += f\"Espécie: {documento['especie']}\\n\"\n",
    "        email_body += f\"Órgão: {documento['orgao']}\\n\"\n",
    "        email_body += f\"ug: {documento['ug']}\\n\"\n",
    "        email_body += f\"Favorecido: {documento['favorecido']}\\n\"\n",
    "        email_body += f\"Valor: {documento['valor']}\\n\"\n",
    "        email_body += \"*\" * 50 + \"\\n\"\n",
    "    \n",
    "    return email_body\n",
    "\n",
    "def main():\n",
    "    data_interesse = datetime(2024, 10, 7)  # Ajuste para a data desejada\n",
    "    \n",
    "    for fase in [1, 2, 3]:\n",
    "        resultados = consultar_api(fase, data_interesse)\n",
    "        \n",
    "        if resultados:\n",
    "            fase_nome = get_fase_nome(fase)\n",
    "            assunto = f\"Novas despesas no Portal da Transparência - {fase_nome} em {data_interesse.strftime('%d/%m/%Y')}\"\n",
    "            corpo = formatar_resultados(resultados)\n",
    "            enviar_email(assunto, corpo)\n",
    "        else:\n",
    "            print(f\"Nenhum resultado encontrado para {get_fase_nome(fase)} na data {data_interesse.strftime('%d/%m/%Y')}.\")\n",
    "\n",
    "if __name__ == \"__main__\":\n",
    "    main()\n"
   ]
  }
 ],
 "metadata": {
  "kernelspec": {
   "display_name": "Python 3 (ipykernel)",
   "language": "python",
   "name": "python3"
  },
  "language_info": {
   "codemirror_mode": {
    "name": "ipython",
    "version": 3
   },
   "file_extension": ".py",
   "mimetype": "text/x-python",
   "name": "python",
   "nbconvert_exporter": "python",
   "pygments_lexer": "ipython3",
   "version": "3.12.4"
  }
 },
 "nbformat": 4,
 "nbformat_minor": 5
}
