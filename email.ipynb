{
 "cells": [
  {
   "cell_type": "code",
   "execution_count": null,
   "id": "60448595-b788-4063-901f-01a44229b0b8",
   "metadata": {},
   "outputs": [],
   "source": [
    "import win32com.client as win32\n",
    "import os\n",
    "\n",
    "def enviar_email(assunto, corpo):\n",
    "    try:\n",
    "        outlook = win32.Dispatch('outlook.application')\n",
    "        mail = outlook.CreateItem(0)\n",
    "        mail.To = os.getenv(\"EMAIL_TO\")  # E-mail armazenado em uma variável de ambiente\n",
    "        mail.Subject = assunto\n",
    "        mail.Body = corpo\n",
    "        mail.Send()\n",
    "        print(f\"E-mail enviado com sucesso! Assunto: {assunto}\")\n",
    "    except Exception as e:\n",
    "        print(f\"Erro ao enviar e-mail: {e}\")\n"
   ]
  }
 ],
 "metadata": {
  "kernelspec": {
   "display_name": "Python 3 (ipykernel)",
   "language": "python",
   "name": "python3"
  },
  "language_info": {
   "codemirror_mode": {
    "name": "ipython",
    "version": 3
   },
   "file_extension": ".py",
   "mimetype": "text/x-python",
   "name": "python",
   "nbconvert_exporter": "python",
   "pygments_lexer": "ipython3",
   "version": "3.12.4"
  }
 },
 "nbformat": 4,
 "nbformat_minor": 5
}
